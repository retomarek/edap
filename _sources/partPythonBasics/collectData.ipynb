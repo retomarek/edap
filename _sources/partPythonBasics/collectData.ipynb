{
 "cells": [
  {
   "cell_type": "markdown",
   "metadata": {},
   "source": [
    "# Collect Data"
   ]
  },
  {
   "cell_type": "markdown",
   "metadata": {},
   "source": [
    "## Loading Data"
   ]
  },
  {
   "cell_type": "markdown",
   "metadata": {},
   "source": [
    "### csv-Files"
   ]
  },
  {
   "cell_type": "code",
   "execution_count": 11,
   "metadata": {
    "scrolled": true
   },
   "outputs": [
    {
     "data": {
      "text/html": [
       "<div>\n",
       "<style scoped>\n",
       "    .dataframe tbody tr th:only-of-type {\n",
       "        vertical-align: middle;\n",
       "    }\n",
       "\n",
       "    .dataframe tbody tr th {\n",
       "        vertical-align: top;\n",
       "    }\n",
       "\n",
       "    .dataframe thead th {\n",
       "        text-align: right;\n",
       "    }\n",
       "</style>\n",
       "<table border=\"1\" class=\"dataframe\">\n",
       "  <thead>\n",
       "    <tr style=\"text-align: right;\">\n",
       "      <th></th>\n",
       "      <th>time</th>\n",
       "      <th>FlatA_Ele</th>\n",
       "      <th>FlatB_Ele</th>\n",
       "      <th>FlatC_Ele</th>\n",
       "      <th>FlatD_Ele</th>\n",
       "    </tr>\n",
       "  </thead>\n",
       "  <tbody>\n",
       "    <tr>\n",
       "      <th>0</th>\n",
       "      <td>2018-11-30 23:45:00</td>\n",
       "      <td>5619.889</td>\n",
       "      <td>7246.254</td>\n",
       "      <td>5125.006</td>\n",
       "      <td>8387.030</td>\n",
       "    </tr>\n",
       "    <tr>\n",
       "      <th>1</th>\n",
       "      <td>2018-12-01 00:00:00</td>\n",
       "      <td>5619.904</td>\n",
       "      <td>7246.551</td>\n",
       "      <td>5125.039</td>\n",
       "      <td>8387.085</td>\n",
       "    </tr>\n",
       "    <tr>\n",
       "      <th>2</th>\n",
       "      <td>2018-12-01 00:15:00</td>\n",
       "      <td>5619.929</td>\n",
       "      <td>7246.753</td>\n",
       "      <td>5125.077</td>\n",
       "      <td>8387.137</td>\n",
       "    </tr>\n",
       "    <tr>\n",
       "      <th>3</th>\n",
       "      <td>2018-12-01 00:30:00</td>\n",
       "      <td>5619.952</td>\n",
       "      <td>7246.933</td>\n",
       "      <td>5125.117</td>\n",
       "      <td>8387.181</td>\n",
       "    </tr>\n",
       "    <tr>\n",
       "      <th>4</th>\n",
       "      <td>2018-12-01 00:45:00</td>\n",
       "      <td>5619.973</td>\n",
       "      <td>7247.005</td>\n",
       "      <td>5125.153</td>\n",
       "      <td>8387.222</td>\n",
       "    </tr>\n",
       "  </tbody>\n",
       "</table>\n",
       "</div>"
      ],
      "text/plain": [
       "                  time  FlatA_Ele  FlatB_Ele  FlatC_Ele  FlatD_Ele\n",
       "0  2018-11-30 23:45:00   5619.889   7246.254   5125.006   8387.030\n",
       "1  2018-12-01 00:00:00   5619.904   7246.551   5125.039   8387.085\n",
       "2  2018-12-01 00:15:00   5619.929   7246.753   5125.077   8387.137\n",
       "3  2018-12-01 00:30:00   5619.952   7246.933   5125.117   8387.181\n",
       "4  2018-12-01 00:45:00   5619.973   7247.005   5125.153   8387.222"
      ]
     },
     "execution_count": 11,
     "metadata": {},
     "output_type": "execute_result"
    }
   ],
   "source": [
    "import pandas as pd\n",
    "\n",
    "df = pd.read_csv(\"https://github.com/hslu-ige-laes/edar/raw/master/sampleData/flatElectricity.csv\", sep = \";\")\n",
    "df.head()"
   ]
  },
  {
   "cell_type": "markdown",
   "metadata": {},
   "source": [
    "### html-Documents"
   ]
  },
  {
   "cell_type": "code",
   "execution_count": 10,
   "metadata": {},
   "outputs": [
    {
     "data": {
      "text/html": [
       "<div>\n",
       "<style scoped>\n",
       "    .dataframe tbody tr th:only-of-type {\n",
       "        vertical-align: middle;\n",
       "    }\n",
       "\n",
       "    .dataframe tbody tr th {\n",
       "        vertical-align: top;\n",
       "    }\n",
       "\n",
       "    .dataframe thead th {\n",
       "        text-align: right;\n",
       "    }\n",
       "</style>\n",
       "<table border=\"1\" class=\"dataframe\">\n",
       "  <thead>\n",
       "    <tr style=\"text-align: right;\">\n",
       "      <th></th>\n",
       "      <th>Datum</th>\n",
       "      <th>Temperatur Durchschnitt(°C)</th>\n",
       "    </tr>\n",
       "  </thead>\n",
       "  <tbody>\n",
       "    <tr>\n",
       "      <th>0</th>\n",
       "      <td>06.04.2021 00:00</td>\n",
       "      <td>4.3</td>\n",
       "    </tr>\n",
       "    <tr>\n",
       "      <th>1</th>\n",
       "      <td>06.04.2021 01:00</td>\n",
       "      <td>1.4</td>\n",
       "    </tr>\n",
       "    <tr>\n",
       "      <th>2</th>\n",
       "      <td>06.04.2021 02:00</td>\n",
       "      <td>0.0</td>\n",
       "    </tr>\n",
       "    <tr>\n",
       "      <th>3</th>\n",
       "      <td>06.04.2021 03:00</td>\n",
       "      <td>-1.4</td>\n",
       "    </tr>\n",
       "    <tr>\n",
       "      <th>4</th>\n",
       "      <td>06.04.2021 04:00</td>\n",
       "      <td>-2.2</td>\n",
       "    </tr>\n",
       "  </tbody>\n",
       "</table>\n",
       "</div>"
      ],
      "text/plain": [
       "              Datum  Temperatur Durchschnitt(°C)\n",
       "0  06.04.2021 00:00                          4.3\n",
       "1  06.04.2021 01:00                          1.4\n",
       "2  06.04.2021 02:00                          0.0\n",
       "3  06.04.2021 03:00                         -1.4\n",
       "4  06.04.2021 04:00                         -2.2"
      ]
     },
     "execution_count": 10,
     "metadata": {},
     "output_type": "execute_result"
    }
   ],
   "source": [
    "    download_string = \"https://www.agrometeo.ch/de/meteorologie/data?stations=190&sensors=1%3Aavg&scale=hour&groupBy=station\"\n",
    "    readTable = pd.read_html(download_string, header=0, skiprows=1)\n",
    "    df = pd.DataFrame(readTable[0])\n",
    "    df.head()"
   ]
  },
  {
   "cell_type": "markdown",
   "metadata": {},
   "source": [
    "> for a html-Parser: pip install html5lib\n",
    "\n",
    "> to extract html-data: pip install beautifulsoup4"
   ]
  },
  {
   "cell_type": "markdown",
   "metadata": {},
   "source": [
    "### Application Programming Interfaces"
   ]
  },
  {
   "cell_type": "markdown",
   "metadata": {},
   "source": [
    "Many applications offer interfaces with which data can be specifically requested in a structured format. JSON is often used as the format."
   ]
  },
  {
   "cell_type": "code",
   "execution_count": 14,
   "metadata": {
    "scrolled": false
   },
   "outputs": [
    {
     "data": {
      "text/plain": [
       "{'metadata': {'name': '',\n",
       "  'latitude': 47.56,\n",
       "  'longitude': 7.57,\n",
       "  'height': 279,\n",
       "  'timezone_abbrevation': 'CEST',\n",
       "  'utc_timeoffset': 2.0,\n",
       "  'modelrun_utc': '2021-04-19 12:00',\n",
       "  'modelrun_updatetime_utc': '2021-04-19 19:21'},\n",
       " 'units': {'time': 'YYYY-MM-DD hh:mm',\n",
       "  'predictability': 'percent',\n",
       "  'precipitation_probability': 'percent',\n",
       "  'pressure': 'hPa',\n",
       "  'relativehumidity': 'percent',\n",
       "  'co': 'ug/m3',\n",
       "  'temperature': 'C',\n",
       "  'winddirection': 'degree',\n",
       "  'precipitation': 'mm',\n",
       "  'windspeed': 'ms-1'},\n",
       " 'data_day': {'time': ['2021-04-20',\n",
       "   '2021-04-21',\n",
       "   '2021-04-22',\n",
       "   '2021-04-23',\n",
       "   '2021-04-24',\n",
       "   '2021-04-25',\n",
       "   '2021-04-26'],\n",
       "  'pictocode': [2, 2, 3, 1, 1, 2, 2],\n",
       "  'uvindex': [3, 5, 4, 6, 6, 5, 4],\n",
       "  'temperature_max': [14.81, 16.11, 13.19, 14.28, 18.05, 18.51, 18.8],\n",
       "  'temperature_min': [3.77, 3.64, 6.25, 2.05, 1.19, 4.57, 5.81],\n",
       "  'temperature_mean': [9.65, 10.45, 9.39, 8.17, 9.76, 11.62, 12.09],\n",
       "  'felttemperature_max': [12.71, 14.29, 9.45, 11.1, 16.18, 16.41, 15.08],\n",
       "  'felttemperature_min': [1.35, 0.74, 2.84, -1.07, -2.4, 1.94, 3.29],\n",
       "  'winddirection': [45, 135, 0, 45, 90, 90, 45],\n",
       "  'precipitation_probability': [5, 28, 18, 2, 7, 9, 31],\n",
       "  'rainspot': ['0000000000000000000000000000000000000000000000000',\n",
       "   '2222221222222122211011110000911000019100000900000',\n",
       "   '0000010000000100000010000000000000000000000000000',\n",
       "   '0000000000000000000000000000000000000000000000000',\n",
       "   '0000000000000000000000000000000000000000000000000',\n",
       "   '0000000000000000000000000000000000000000000000000',\n",
       "   '0200000022900001002000000000000000000000000000000'],\n",
       "  'predictability_class': [4, 4, 4, 4, 4, 3, 2],\n",
       "  'predictability': [79, 65, 71, 71, 66, 56, 30],\n",
       "  'precipitation': [0.0, 0.0, 0.0, 0.0, 0.0, 0.0, 0.0],\n",
       "  'snowfraction': [0.0, 0.0, 0.0, 0.0, 0.0, 0.0, 0.0],\n",
       "  'sealevelpressure_max': [1019, 1016, 1021, 1024, 1025, 1025, 1022],\n",
       "  'sealevelpressure_min': [1014, 1014, 1016, 1020, 1020, 1019, 1010],\n",
       "  'sealevelpressure_mean': [1017, 1015, 1018, 1022, 1023, 1022, 1015],\n",
       "  'windspeed_max': [1.82, 2.32, 3.44, 2.89, 2.11, 2.52, 3.94],\n",
       "  'windspeed_mean': [1.08, 1.48, 2.48, 2.04, 1.66, 1.67, 2.42],\n",
       "  'windspeed_min': [0.53, 0.75, 1.44, 1.15, 1.25, 0.94, 0.97],\n",
       "  'relativehumidity_max': [90, 84, 86, 78, 73, 78, 78],\n",
       "  'relativehumidity_min': [45, 43, 46, 40, 37, 39, 33],\n",
       "  'relativehumidity_mean': [67, 64, 68, 57, 56, 58, 55],\n",
       "  'convective_precipitation': [0.0, 0.0, 0.0, 0.0, 0.0, 0.0, 0.0],\n",
       "  'precipitation_hours': [0.0, 0.0, 0.0, 0.0, 0.0, 0.0, 0.0],\n",
       "  'humiditygreater90_hours': [0.0, 0.0, 0.0, 0.0, 0.0, 0.0, 0.0]}}"
      ]
     },
     "execution_count": 14,
     "metadata": {},
     "output_type": "execute_result"
    }
   ],
   "source": [
    "import requests, json\n",
    "endpoint = \"http://my.meteoblue.com/packages/basic-day?apikey=41f2dd49fb6a&lat=47.5584&lon=7.5733&asl=279&tz=Europe%2FZurich&city=Basel&sig=3e85133f41896cd51894ac05fd8a9d0b\"\n",
    "data = json.loads(requests.get(endpoint).text)\n",
    "data"
   ]
  },
  {
   "cell_type": "markdown",
   "metadata": {},
   "source": [
    "## Saving Files"
   ]
  },
  {
   "cell_type": "markdown",
   "metadata": {},
   "source": [
    "### csv-Files"
   ]
  },
  {
   "cell_type": "code",
   "execution_count": 16,
   "metadata": {},
   "outputs": [],
   "source": [
    "df.to_csv (r'C:\\temp\\exportCsvFile.csv', index = False, header=True, sep=\";\")"
   ]
  }
 ],
 "metadata": {
  "kernelspec": {
   "display_name": "Python 3",
   "language": "python",
   "name": "python3"
  },
  "language_info": {
   "codemirror_mode": {
    "name": "ipython",
    "version": 3
   },
   "file_extension": ".py",
   "mimetype": "text/x-python",
   "name": "python",
   "nbconvert_exporter": "python",
   "pygments_lexer": "ipython3",
   "version": "3.7.1"
  },
  "widgets": {
   "application/vnd.jupyter.widget-state+json": {
    "state": {},
    "version_major": 2,
    "version_minor": 0
   }
  }
 },
 "nbformat": 4,
 "nbformat_minor": 4
}
