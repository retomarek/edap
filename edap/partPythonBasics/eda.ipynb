{
 "cells": [
  {
   "cell_type": "markdown",
   "metadata": {},
   "source": [
    "# Explorative Data Analysis\n",
    "Explorative Data Analysis (EDA) is a technique based on the human characteristic of visual pattern recognition.\n",
    "\n",
    "The purpose of EDA is simple: learn more about data by visualizing it in different ways.\n",
    "\n",
    "> “Exploratory data analysis is graphical detective work.” - John W. Tukey, considered the founder of EDA"
   ]
  },
  {
   "cell_type": "markdown",
   "metadata": {},
   "source": [
    "## Get Overview of Data\n",
    "A first step is getting an overview of the whole data set and specific series of it."
   ]
  },
  {
   "cell_type": "code",
   "execution_count": 46,
   "metadata": {},
   "outputs": [],
   "source": [
    "import pandas as pd\n",
    "\n",
    "df = pd.read_csv(\"https://raw.githubusercontent.com/retomarek/edap/main/edap/sampleData/flatTempHum.csv\",\n",
    "                 sep = \";\")"
   ]
  },
  {
   "cell_type": "code",
   "execution_count": 47,
   "metadata": {
    "scrolled": false
   },
   "outputs": [
    {
     "data": {
      "text/html": [
       "<div>\n",
       "<style scoped>\n",
       "    .dataframe tbody tr th:only-of-type {\n",
       "        vertical-align: middle;\n",
       "    }\n",
       "\n",
       "    .dataframe tbody tr th {\n",
       "        vertical-align: top;\n",
       "    }\n",
       "\n",
       "    .dataframe thead th {\n",
       "        text-align: right;\n",
       "    }\n",
       "</style>\n",
       "<table border=\"1\" class=\"dataframe\">\n",
       "  <thead>\n",
       "    <tr style=\"text-align: right;\">\n",
       "      <th></th>\n",
       "      <th>time</th>\n",
       "      <th>FlatA_Hum</th>\n",
       "      <th>FlatA_Temp</th>\n",
       "      <th>FlatB_Hum</th>\n",
       "      <th>FlatB_Temp</th>\n",
       "      <th>FlatC_Hum</th>\n",
       "      <th>FlatC_Temp</th>\n",
       "      <th>FlatD_Hum</th>\n",
       "      <th>FlatD_Temp</th>\n",
       "    </tr>\n",
       "  </thead>\n",
       "  <tbody>\n",
       "    <tr>\n",
       "      <th>0</th>\n",
       "      <td>2018-10-03 00:00:00</td>\n",
       "      <td>53.0</td>\n",
       "      <td>24.43</td>\n",
       "      <td>38.8</td>\n",
       "      <td>22.40</td>\n",
       "      <td>44.0</td>\n",
       "      <td>24.5</td>\n",
       "      <td>49.0</td>\n",
       "      <td>24.43</td>\n",
       "    </tr>\n",
       "    <tr>\n",
       "      <th>1</th>\n",
       "      <td>2018-10-03 01:00:00</td>\n",
       "      <td>53.0</td>\n",
       "      <td>24.40</td>\n",
       "      <td>38.8</td>\n",
       "      <td>22.40</td>\n",
       "      <td>44.0</td>\n",
       "      <td>24.5</td>\n",
       "      <td>49.0</td>\n",
       "      <td>24.40</td>\n",
       "    </tr>\n",
       "    <tr>\n",
       "      <th>2</th>\n",
       "      <td>2018-10-03 02:00:00</td>\n",
       "      <td>53.0</td>\n",
       "      <td>24.40</td>\n",
       "      <td>39.3</td>\n",
       "      <td>22.40</td>\n",
       "      <td>44.7</td>\n",
       "      <td>24.5</td>\n",
       "      <td>48.3</td>\n",
       "      <td>24.38</td>\n",
       "    </tr>\n",
       "    <tr>\n",
       "      <th>3</th>\n",
       "      <td>2018-10-03 03:00:00</td>\n",
       "      <td>53.0</td>\n",
       "      <td>24.40</td>\n",
       "      <td>40.3</td>\n",
       "      <td>22.40</td>\n",
       "      <td>45.0</td>\n",
       "      <td>24.5</td>\n",
       "      <td>48.0</td>\n",
       "      <td>24.33</td>\n",
       "    </tr>\n",
       "    <tr>\n",
       "      <th>4</th>\n",
       "      <td>2018-10-03 04:00:00</td>\n",
       "      <td>53.3</td>\n",
       "      <td>24.40</td>\n",
       "      <td>41.0</td>\n",
       "      <td>22.37</td>\n",
       "      <td>45.2</td>\n",
       "      <td>24.5</td>\n",
       "      <td>47.7</td>\n",
       "      <td>24.30</td>\n",
       "    </tr>\n",
       "    <tr>\n",
       "      <th>...</th>\n",
       "      <td>...</td>\n",
       "      <td>...</td>\n",
       "      <td>...</td>\n",
       "      <td>...</td>\n",
       "      <td>...</td>\n",
       "      <td>...</td>\n",
       "      <td>...</td>\n",
       "      <td>...</td>\n",
       "      <td>...</td>\n",
       "    </tr>\n",
       "    <tr>\n",
       "      <th>17176</th>\n",
       "      <td>2020-09-17 16:00:00</td>\n",
       "      <td>NaN</td>\n",
       "      <td>NaN</td>\n",
       "      <td>NaN</td>\n",
       "      <td>NaN</td>\n",
       "      <td>NaN</td>\n",
       "      <td>NaN</td>\n",
       "      <td>NaN</td>\n",
       "      <td>NaN</td>\n",
       "    </tr>\n",
       "    <tr>\n",
       "      <th>17177</th>\n",
       "      <td>2020-09-17 17:00:00</td>\n",
       "      <td>NaN</td>\n",
       "      <td>NaN</td>\n",
       "      <td>NaN</td>\n",
       "      <td>NaN</td>\n",
       "      <td>NaN</td>\n",
       "      <td>NaN</td>\n",
       "      <td>NaN</td>\n",
       "      <td>NaN</td>\n",
       "    </tr>\n",
       "    <tr>\n",
       "      <th>17178</th>\n",
       "      <td>2020-09-17 18:00:00</td>\n",
       "      <td>NaN</td>\n",
       "      <td>NaN</td>\n",
       "      <td>NaN</td>\n",
       "      <td>NaN</td>\n",
       "      <td>NaN</td>\n",
       "      <td>NaN</td>\n",
       "      <td>NaN</td>\n",
       "      <td>NaN</td>\n",
       "    </tr>\n",
       "    <tr>\n",
       "      <th>17179</th>\n",
       "      <td>2020-09-17 19:00:00</td>\n",
       "      <td>NaN</td>\n",
       "      <td>NaN</td>\n",
       "      <td>NaN</td>\n",
       "      <td>NaN</td>\n",
       "      <td>NaN</td>\n",
       "      <td>NaN</td>\n",
       "      <td>NaN</td>\n",
       "      <td>NaN</td>\n",
       "    </tr>\n",
       "    <tr>\n",
       "      <th>17180</th>\n",
       "      <td>2020-09-17 20:00:00</td>\n",
       "      <td>NaN</td>\n",
       "      <td>NaN</td>\n",
       "      <td>NaN</td>\n",
       "      <td>NaN</td>\n",
       "      <td>NaN</td>\n",
       "      <td>NaN</td>\n",
       "      <td>NaN</td>\n",
       "      <td>NaN</td>\n",
       "    </tr>\n",
       "  </tbody>\n",
       "</table>\n",
       "<p>17181 rows × 9 columns</p>\n",
       "</div>"
      ],
      "text/plain": [
       "                      time  FlatA_Hum  FlatA_Temp  FlatB_Hum  FlatB_Temp  \\\n",
       "0      2018-10-03 00:00:00       53.0       24.43       38.8       22.40   \n",
       "1      2018-10-03 01:00:00       53.0       24.40       38.8       22.40   \n",
       "2      2018-10-03 02:00:00       53.0       24.40       39.3       22.40   \n",
       "3      2018-10-03 03:00:00       53.0       24.40       40.3       22.40   \n",
       "4      2018-10-03 04:00:00       53.3       24.40       41.0       22.37   \n",
       "...                    ...        ...         ...        ...         ...   \n",
       "17176  2020-09-17 16:00:00        NaN         NaN        NaN         NaN   \n",
       "17177  2020-09-17 17:00:00        NaN         NaN        NaN         NaN   \n",
       "17178  2020-09-17 18:00:00        NaN         NaN        NaN         NaN   \n",
       "17179  2020-09-17 19:00:00        NaN         NaN        NaN         NaN   \n",
       "17180  2020-09-17 20:00:00        NaN         NaN        NaN         NaN   \n",
       "\n",
       "       FlatC_Hum  FlatC_Temp  FlatD_Hum  FlatD_Temp  \n",
       "0           44.0        24.5       49.0       24.43  \n",
       "1           44.0        24.5       49.0       24.40  \n",
       "2           44.7        24.5       48.3       24.38  \n",
       "3           45.0        24.5       48.0       24.33  \n",
       "4           45.2        24.5       47.7       24.30  \n",
       "...          ...         ...        ...         ...  \n",
       "17176        NaN         NaN        NaN         NaN  \n",
       "17177        NaN         NaN        NaN         NaN  \n",
       "17178        NaN         NaN        NaN         NaN  \n",
       "17179        NaN         NaN        NaN         NaN  \n",
       "17180        NaN         NaN        NaN         NaN  \n",
       "\n",
       "[17181 rows x 9 columns]"
      ]
     },
     "execution_count": 47,
     "metadata": {},
     "output_type": "execute_result"
    }
   ],
   "source": [
    "df"
   ]
  },
  {
   "cell_type": "code",
   "execution_count": 48,
   "metadata": {},
   "outputs": [
    {
     "data": {
      "text/html": [
       "<div>\n",
       "<style scoped>\n",
       "    .dataframe tbody tr th:only-of-type {\n",
       "        vertical-align: middle;\n",
       "    }\n",
       "\n",
       "    .dataframe tbody tr th {\n",
       "        vertical-align: top;\n",
       "    }\n",
       "\n",
       "    .dataframe thead th {\n",
       "        text-align: right;\n",
       "    }\n",
       "</style>\n",
       "<table border=\"1\" class=\"dataframe\">\n",
       "  <thead>\n",
       "    <tr style=\"text-align: right;\">\n",
       "      <th></th>\n",
       "      <th>time</th>\n",
       "      <th>FlatA_Hum</th>\n",
       "      <th>FlatA_Temp</th>\n",
       "      <th>FlatB_Hum</th>\n",
       "      <th>FlatB_Temp</th>\n",
       "      <th>FlatC_Hum</th>\n",
       "      <th>FlatC_Temp</th>\n",
       "      <th>FlatD_Hum</th>\n",
       "      <th>FlatD_Temp</th>\n",
       "    </tr>\n",
       "  </thead>\n",
       "  <tbody>\n",
       "    <tr>\n",
       "      <th>0</th>\n",
       "      <td>2018-10-03 00:00:00</td>\n",
       "      <td>53.0</td>\n",
       "      <td>24.43</td>\n",
       "      <td>38.8</td>\n",
       "      <td>22.4</td>\n",
       "      <td>44.0</td>\n",
       "      <td>24.5</td>\n",
       "      <td>49.0</td>\n",
       "      <td>24.43</td>\n",
       "    </tr>\n",
       "    <tr>\n",
       "      <th>1</th>\n",
       "      <td>2018-10-03 01:00:00</td>\n",
       "      <td>53.0</td>\n",
       "      <td>24.40</td>\n",
       "      <td>38.8</td>\n",
       "      <td>22.4</td>\n",
       "      <td>44.0</td>\n",
       "      <td>24.5</td>\n",
       "      <td>49.0</td>\n",
       "      <td>24.40</td>\n",
       "    </tr>\n",
       "    <tr>\n",
       "      <th>2</th>\n",
       "      <td>2018-10-03 02:00:00</td>\n",
       "      <td>53.0</td>\n",
       "      <td>24.40</td>\n",
       "      <td>39.3</td>\n",
       "      <td>22.4</td>\n",
       "      <td>44.7</td>\n",
       "      <td>24.5</td>\n",
       "      <td>48.3</td>\n",
       "      <td>24.38</td>\n",
       "    </tr>\n",
       "  </tbody>\n",
       "</table>\n",
       "</div>"
      ],
      "text/plain": [
       "                  time  FlatA_Hum  FlatA_Temp  FlatB_Hum  FlatB_Temp  \\\n",
       "0  2018-10-03 00:00:00       53.0       24.43       38.8        22.4   \n",
       "1  2018-10-03 01:00:00       53.0       24.40       38.8        22.4   \n",
       "2  2018-10-03 02:00:00       53.0       24.40       39.3        22.4   \n",
       "\n",
       "   FlatC_Hum  FlatC_Temp  FlatD_Hum  FlatD_Temp  \n",
       "0       44.0        24.5       49.0       24.43  \n",
       "1       44.0        24.5       49.0       24.40  \n",
       "2       44.7        24.5       48.3       24.38  "
      ]
     },
     "execution_count": 48,
     "metadata": {},
     "output_type": "execute_result"
    }
   ],
   "source": [
    "df.head(3)"
   ]
  },
  {
   "cell_type": "code",
   "execution_count": 49,
   "metadata": {
    "scrolled": true
   },
   "outputs": [
    {
     "data": {
      "text/html": [
       "<div>\n",
       "<style scoped>\n",
       "    .dataframe tbody tr th:only-of-type {\n",
       "        vertical-align: middle;\n",
       "    }\n",
       "\n",
       "    .dataframe tbody tr th {\n",
       "        vertical-align: top;\n",
       "    }\n",
       "\n",
       "    .dataframe thead th {\n",
       "        text-align: right;\n",
       "    }\n",
       "</style>\n",
       "<table border=\"1\" class=\"dataframe\">\n",
       "  <thead>\n",
       "    <tr style=\"text-align: right;\">\n",
       "      <th></th>\n",
       "      <th>time</th>\n",
       "      <th>FlatA_Hum</th>\n",
       "      <th>FlatA_Temp</th>\n",
       "      <th>FlatB_Hum</th>\n",
       "      <th>FlatB_Temp</th>\n",
       "      <th>FlatC_Hum</th>\n",
       "      <th>FlatC_Temp</th>\n",
       "      <th>FlatD_Hum</th>\n",
       "      <th>FlatD_Temp</th>\n",
       "    </tr>\n",
       "  </thead>\n",
       "  <tbody>\n",
       "    <tr>\n",
       "      <th>17179</th>\n",
       "      <td>2020-09-17 19:00:00</td>\n",
       "      <td>NaN</td>\n",
       "      <td>NaN</td>\n",
       "      <td>NaN</td>\n",
       "      <td>NaN</td>\n",
       "      <td>NaN</td>\n",
       "      <td>NaN</td>\n",
       "      <td>NaN</td>\n",
       "      <td>NaN</td>\n",
       "    </tr>\n",
       "    <tr>\n",
       "      <th>17180</th>\n",
       "      <td>2020-09-17 20:00:00</td>\n",
       "      <td>NaN</td>\n",
       "      <td>NaN</td>\n",
       "      <td>NaN</td>\n",
       "      <td>NaN</td>\n",
       "      <td>NaN</td>\n",
       "      <td>NaN</td>\n",
       "      <td>NaN</td>\n",
       "      <td>NaN</td>\n",
       "    </tr>\n",
       "  </tbody>\n",
       "</table>\n",
       "</div>"
      ],
      "text/plain": [
       "                      time  FlatA_Hum  FlatA_Temp  FlatB_Hum  FlatB_Temp  \\\n",
       "17179  2020-09-17 19:00:00        NaN         NaN        NaN         NaN   \n",
       "17180  2020-09-17 20:00:00        NaN         NaN        NaN         NaN   \n",
       "\n",
       "       FlatC_Hum  FlatC_Temp  FlatD_Hum  FlatD_Temp  \n",
       "17179        NaN         NaN        NaN         NaN  \n",
       "17180        NaN         NaN        NaN         NaN  "
      ]
     },
     "execution_count": 49,
     "metadata": {},
     "output_type": "execute_result"
    }
   ],
   "source": [
    "df.tail(2)"
   ]
  },
  {
   "cell_type": "code",
   "execution_count": 50,
   "metadata": {
    "scrolled": false
   },
   "outputs": [
    {
     "data": {
      "text/plain": [
       "(17181, 9)"
      ]
     },
     "execution_count": 50,
     "metadata": {},
     "output_type": "execute_result"
    }
   ],
   "source": [
    "df.shape"
   ]
  },
  {
   "cell_type": "code",
   "execution_count": 51,
   "metadata": {
    "scrolled": false
   },
   "outputs": [
    {
     "data": {
      "text/plain": [
       "time           object\n",
       "FlatA_Hum     float64\n",
       "FlatA_Temp    float64\n",
       "FlatB_Hum     float64\n",
       "FlatB_Temp    float64\n",
       "FlatC_Hum     float64\n",
       "FlatC_Temp    float64\n",
       "FlatD_Hum     float64\n",
       "FlatD_Temp    float64\n",
       "dtype: object"
      ]
     },
     "execution_count": 51,
     "metadata": {},
     "output_type": "execute_result"
    }
   ],
   "source": [
    "df.dtypes"
   ]
  },
  {
   "cell_type": "markdown",
   "metadata": {},
   "source": [
    "```{note}\n",
    "The type \"object\" normally points to unclean data, e.g. the time which should be a datetime object\n",
    "```"
   ]
  },
  {
   "cell_type": "markdown",
   "metadata": {},
   "source": [
    "## Descriptive Statistics"
   ]
  },
  {
   "cell_type": "code",
   "execution_count": 53,
   "metadata": {
    "scrolled": true
   },
   "outputs": [
    {
     "data": {
      "text/html": [
       "<div>\n",
       "<style scoped>\n",
       "    .dataframe tbody tr th:only-of-type {\n",
       "        vertical-align: middle;\n",
       "    }\n",
       "\n",
       "    .dataframe tbody tr th {\n",
       "        vertical-align: top;\n",
       "    }\n",
       "\n",
       "    .dataframe thead th {\n",
       "        text-align: right;\n",
       "    }\n",
       "</style>\n",
       "<table border=\"1\" class=\"dataframe\">\n",
       "  <thead>\n",
       "    <tr style=\"text-align: right;\">\n",
       "      <th></th>\n",
       "      <th>FlatA_Hum</th>\n",
       "      <th>FlatA_Temp</th>\n",
       "      <th>FlatB_Hum</th>\n",
       "      <th>FlatB_Temp</th>\n",
       "      <th>FlatC_Hum</th>\n",
       "      <th>FlatC_Temp</th>\n",
       "      <th>FlatD_Hum</th>\n",
       "      <th>FlatD_Temp</th>\n",
       "    </tr>\n",
       "  </thead>\n",
       "  <tbody>\n",
       "    <tr>\n",
       "      <th>count</th>\n",
       "      <td>16484.000000</td>\n",
       "      <td>16484.000000</td>\n",
       "      <td>16470.000000</td>\n",
       "      <td>16470.000000</td>\n",
       "      <td>16497.000000</td>\n",
       "      <td>16497.000000</td>\n",
       "      <td>16354.000000</td>\n",
       "      <td>16354.000000</td>\n",
       "    </tr>\n",
       "    <tr>\n",
       "      <th>mean</th>\n",
       "      <td>54.336599</td>\n",
       "      <td>23.786531</td>\n",
       "      <td>49.666697</td>\n",
       "      <td>23.404749</td>\n",
       "      <td>48.895339</td>\n",
       "      <td>23.964698</td>\n",
       "      <td>49.299156</td>\n",
       "      <td>24.134841</td>\n",
       "    </tr>\n",
       "    <tr>\n",
       "      <th>std</th>\n",
       "      <td>6.300389</td>\n",
       "      <td>1.273444</td>\n",
       "      <td>6.903822</td>\n",
       "      <td>1.470354</td>\n",
       "      <td>6.487768</td>\n",
       "      <td>1.360014</td>\n",
       "      <td>6.524641</td>\n",
       "      <td>1.308097</td>\n",
       "    </tr>\n",
       "    <tr>\n",
       "      <th>min</th>\n",
       "      <td>23.500000</td>\n",
       "      <td>19.100000</td>\n",
       "      <td>25.000000</td>\n",
       "      <td>20.530000</td>\n",
       "      <td>22.500000</td>\n",
       "      <td>21.380000</td>\n",
       "      <td>20.500000</td>\n",
       "      <td>18.120000</td>\n",
       "    </tr>\n",
       "    <tr>\n",
       "      <th>25%</th>\n",
       "      <td>51.000000</td>\n",
       "      <td>22.800000</td>\n",
       "      <td>44.700000</td>\n",
       "      <td>22.320000</td>\n",
       "      <td>44.300000</td>\n",
       "      <td>22.880000</td>\n",
       "      <td>44.300000</td>\n",
       "      <td>23.030000</td>\n",
       "    </tr>\n",
       "    <tr>\n",
       "      <th>50%</th>\n",
       "      <td>54.800000</td>\n",
       "      <td>23.480000</td>\n",
       "      <td>50.000000</td>\n",
       "      <td>23.000000</td>\n",
       "      <td>49.200000</td>\n",
       "      <td>23.600000</td>\n",
       "      <td>49.000000</td>\n",
       "      <td>23.700000</td>\n",
       "    </tr>\n",
       "    <tr>\n",
       "      <th>75%</th>\n",
       "      <td>58.300000</td>\n",
       "      <td>24.600000</td>\n",
       "      <td>54.500000</td>\n",
       "      <td>24.100000</td>\n",
       "      <td>53.800000</td>\n",
       "      <td>24.800000</td>\n",
       "      <td>54.000000</td>\n",
       "      <td>25.200000</td>\n",
       "    </tr>\n",
       "    <tr>\n",
       "      <th>max</th>\n",
       "      <td>76.500000</td>\n",
       "      <td>28.880000</td>\n",
       "      <td>73.300000</td>\n",
       "      <td>29.120000</td>\n",
       "      <td>69.800000</td>\n",
       "      <td>28.800000</td>\n",
       "      <td>69.800000</td>\n",
       "      <td>28.030000</td>\n",
       "    </tr>\n",
       "  </tbody>\n",
       "</table>\n",
       "</div>"
      ],
      "text/plain": [
       "          FlatA_Hum    FlatA_Temp     FlatB_Hum    FlatB_Temp     FlatC_Hum  \\\n",
       "count  16484.000000  16484.000000  16470.000000  16470.000000  16497.000000   \n",
       "mean      54.336599     23.786531     49.666697     23.404749     48.895339   \n",
       "std        6.300389      1.273444      6.903822      1.470354      6.487768   \n",
       "min       23.500000     19.100000     25.000000     20.530000     22.500000   \n",
       "25%       51.000000     22.800000     44.700000     22.320000     44.300000   \n",
       "50%       54.800000     23.480000     50.000000     23.000000     49.200000   \n",
       "75%       58.300000     24.600000     54.500000     24.100000     53.800000   \n",
       "max       76.500000     28.880000     73.300000     29.120000     69.800000   \n",
       "\n",
       "         FlatC_Temp     FlatD_Hum    FlatD_Temp  \n",
       "count  16497.000000  16354.000000  16354.000000  \n",
       "mean      23.964698     49.299156     24.134841  \n",
       "std        1.360014      6.524641      1.308097  \n",
       "min       21.380000     20.500000     18.120000  \n",
       "25%       22.880000     44.300000     23.030000  \n",
       "50%       23.600000     49.000000     23.700000  \n",
       "75%       24.800000     54.000000     25.200000  \n",
       "max       28.800000     69.800000     28.030000  "
      ]
     },
     "execution_count": 53,
     "metadata": {},
     "output_type": "execute_result"
    }
   ],
   "source": [
    "df.describe()"
   ]
  },
  {
   "cell_type": "code",
   "execution_count": 54,
   "metadata": {
    "scrolled": true
   },
   "outputs": [
    {
     "data": {
      "text/html": [
       "<div>\n",
       "<style scoped>\n",
       "    .dataframe tbody tr th:only-of-type {\n",
       "        vertical-align: middle;\n",
       "    }\n",
       "\n",
       "    .dataframe tbody tr th {\n",
       "        vertical-align: top;\n",
       "    }\n",
       "\n",
       "    .dataframe thead th {\n",
       "        text-align: right;\n",
       "    }\n",
       "</style>\n",
       "<table border=\"1\" class=\"dataframe\">\n",
       "  <thead>\n",
       "    <tr style=\"text-align: right;\">\n",
       "      <th></th>\n",
       "      <th>time</th>\n",
       "      <th>FlatA_Hum</th>\n",
       "      <th>FlatA_Temp</th>\n",
       "      <th>FlatB_Hum</th>\n",
       "      <th>FlatB_Temp</th>\n",
       "      <th>FlatC_Hum</th>\n",
       "      <th>FlatC_Temp</th>\n",
       "      <th>FlatD_Hum</th>\n",
       "      <th>FlatD_Temp</th>\n",
       "    </tr>\n",
       "  </thead>\n",
       "  <tbody>\n",
       "    <tr>\n",
       "      <th>count</th>\n",
       "      <td>17181</td>\n",
       "      <td>16484.000000</td>\n",
       "      <td>16484.000000</td>\n",
       "      <td>16470.000000</td>\n",
       "      <td>16470.000000</td>\n",
       "      <td>16497.000000</td>\n",
       "      <td>16497.000000</td>\n",
       "      <td>16354.000000</td>\n",
       "      <td>16354.000000</td>\n",
       "    </tr>\n",
       "    <tr>\n",
       "      <th>unique</th>\n",
       "      <td>17181</td>\n",
       "      <td>NaN</td>\n",
       "      <td>NaN</td>\n",
       "      <td>NaN</td>\n",
       "      <td>NaN</td>\n",
       "      <td>NaN</td>\n",
       "      <td>NaN</td>\n",
       "      <td>NaN</td>\n",
       "      <td>NaN</td>\n",
       "    </tr>\n",
       "    <tr>\n",
       "      <th>top</th>\n",
       "      <td>2019-11-03 16:00:00</td>\n",
       "      <td>NaN</td>\n",
       "      <td>NaN</td>\n",
       "      <td>NaN</td>\n",
       "      <td>NaN</td>\n",
       "      <td>NaN</td>\n",
       "      <td>NaN</td>\n",
       "      <td>NaN</td>\n",
       "      <td>NaN</td>\n",
       "    </tr>\n",
       "    <tr>\n",
       "      <th>freq</th>\n",
       "      <td>1</td>\n",
       "      <td>NaN</td>\n",
       "      <td>NaN</td>\n",
       "      <td>NaN</td>\n",
       "      <td>NaN</td>\n",
       "      <td>NaN</td>\n",
       "      <td>NaN</td>\n",
       "      <td>NaN</td>\n",
       "      <td>NaN</td>\n",
       "    </tr>\n",
       "    <tr>\n",
       "      <th>mean</th>\n",
       "      <td>NaN</td>\n",
       "      <td>54.336599</td>\n",
       "      <td>23.786531</td>\n",
       "      <td>49.666697</td>\n",
       "      <td>23.404749</td>\n",
       "      <td>48.895339</td>\n",
       "      <td>23.964698</td>\n",
       "      <td>49.299156</td>\n",
       "      <td>24.134841</td>\n",
       "    </tr>\n",
       "    <tr>\n",
       "      <th>std</th>\n",
       "      <td>NaN</td>\n",
       "      <td>6.300389</td>\n",
       "      <td>1.273444</td>\n",
       "      <td>6.903822</td>\n",
       "      <td>1.470354</td>\n",
       "      <td>6.487768</td>\n",
       "      <td>1.360014</td>\n",
       "      <td>6.524641</td>\n",
       "      <td>1.308097</td>\n",
       "    </tr>\n",
       "    <tr>\n",
       "      <th>min</th>\n",
       "      <td>NaN</td>\n",
       "      <td>23.500000</td>\n",
       "      <td>19.100000</td>\n",
       "      <td>25.000000</td>\n",
       "      <td>20.530000</td>\n",
       "      <td>22.500000</td>\n",
       "      <td>21.380000</td>\n",
       "      <td>20.500000</td>\n",
       "      <td>18.120000</td>\n",
       "    </tr>\n",
       "    <tr>\n",
       "      <th>25%</th>\n",
       "      <td>NaN</td>\n",
       "      <td>51.000000</td>\n",
       "      <td>22.800000</td>\n",
       "      <td>44.700000</td>\n",
       "      <td>22.320000</td>\n",
       "      <td>44.300000</td>\n",
       "      <td>22.880000</td>\n",
       "      <td>44.300000</td>\n",
       "      <td>23.030000</td>\n",
       "    </tr>\n",
       "    <tr>\n",
       "      <th>50%</th>\n",
       "      <td>NaN</td>\n",
       "      <td>54.800000</td>\n",
       "      <td>23.480000</td>\n",
       "      <td>50.000000</td>\n",
       "      <td>23.000000</td>\n",
       "      <td>49.200000</td>\n",
       "      <td>23.600000</td>\n",
       "      <td>49.000000</td>\n",
       "      <td>23.700000</td>\n",
       "    </tr>\n",
       "    <tr>\n",
       "      <th>75%</th>\n",
       "      <td>NaN</td>\n",
       "      <td>58.300000</td>\n",
       "      <td>24.600000</td>\n",
       "      <td>54.500000</td>\n",
       "      <td>24.100000</td>\n",
       "      <td>53.800000</td>\n",
       "      <td>24.800000</td>\n",
       "      <td>54.000000</td>\n",
       "      <td>25.200000</td>\n",
       "    </tr>\n",
       "    <tr>\n",
       "      <th>max</th>\n",
       "      <td>NaN</td>\n",
       "      <td>76.500000</td>\n",
       "      <td>28.880000</td>\n",
       "      <td>73.300000</td>\n",
       "      <td>29.120000</td>\n",
       "      <td>69.800000</td>\n",
       "      <td>28.800000</td>\n",
       "      <td>69.800000</td>\n",
       "      <td>28.030000</td>\n",
       "    </tr>\n",
       "  </tbody>\n",
       "</table>\n",
       "</div>"
      ],
      "text/plain": [
       "                       time     FlatA_Hum    FlatA_Temp     FlatB_Hum  \\\n",
       "count                 17181  16484.000000  16484.000000  16470.000000   \n",
       "unique                17181           NaN           NaN           NaN   \n",
       "top     2019-11-03 16:00:00           NaN           NaN           NaN   \n",
       "freq                      1           NaN           NaN           NaN   \n",
       "mean                    NaN     54.336599     23.786531     49.666697   \n",
       "std                     NaN      6.300389      1.273444      6.903822   \n",
       "min                     NaN     23.500000     19.100000     25.000000   \n",
       "25%                     NaN     51.000000     22.800000     44.700000   \n",
       "50%                     NaN     54.800000     23.480000     50.000000   \n",
       "75%                     NaN     58.300000     24.600000     54.500000   \n",
       "max                     NaN     76.500000     28.880000     73.300000   \n",
       "\n",
       "          FlatB_Temp     FlatC_Hum    FlatC_Temp     FlatD_Hum    FlatD_Temp  \n",
       "count   16470.000000  16497.000000  16497.000000  16354.000000  16354.000000  \n",
       "unique           NaN           NaN           NaN           NaN           NaN  \n",
       "top              NaN           NaN           NaN           NaN           NaN  \n",
       "freq             NaN           NaN           NaN           NaN           NaN  \n",
       "mean       23.404749     48.895339     23.964698     49.299156     24.134841  \n",
       "std         1.470354      6.487768      1.360014      6.524641      1.308097  \n",
       "min        20.530000     22.500000     21.380000     20.500000     18.120000  \n",
       "25%        22.320000     44.300000     22.880000     44.300000     23.030000  \n",
       "50%        23.000000     49.200000     23.600000     49.000000     23.700000  \n",
       "75%        24.100000     53.800000     24.800000     54.000000     25.200000  \n",
       "max        29.120000     69.800000     28.800000     69.800000     28.030000  "
      ]
     },
     "execution_count": 54,
     "metadata": {},
     "output_type": "execute_result"
    }
   ],
   "source": [
    "df.describe(include=\"all\")"
   ]
  },
  {
   "cell_type": "code",
   "execution_count": 65,
   "metadata": {},
   "outputs": [
    {
     "data": {
      "text/plain": [
       "19.1"
      ]
     },
     "execution_count": 65,
     "metadata": {},
     "output_type": "execute_result"
    }
   ],
   "source": [
    "df[\"FlatA_Temp\"].min()"
   ]
  },
  {
   "cell_type": "code",
   "execution_count": 66,
   "metadata": {},
   "outputs": [
    {
     "data": {
      "text/plain": [
       "28.88"
      ]
     },
     "execution_count": 66,
     "metadata": {},
     "output_type": "execute_result"
    }
   ],
   "source": [
    "df[\"FlatA_Temp\"].max()"
   ]
  },
  {
   "cell_type": "code",
   "execution_count": 67,
   "metadata": {},
   "outputs": [
    {
     "data": {
      "text/plain": [
       "23.48"
      ]
     },
     "execution_count": 67,
     "metadata": {},
     "output_type": "execute_result"
    }
   ],
   "source": [
    "df[\"FlatA_Temp\"].median()"
   ]
  },
  {
   "cell_type": "code",
   "execution_count": 68,
   "metadata": {},
   "outputs": [
    {
     "data": {
      "text/plain": [
       "23.786531181752057"
      ]
     },
     "execution_count": 68,
     "metadata": {},
     "output_type": "execute_result"
    }
   ],
   "source": [
    "df[\"FlatA_Temp\"].mean()"
   ]
  },
  {
   "cell_type": "markdown",
   "metadata": {},
   "source": [
    "## Histograms"
   ]
  },
  {
   "cell_type": "code",
   "execution_count": 55,
   "metadata": {
    "scrolled": true
   },
   "outputs": [
    {
     "data": {
      "text/plain": [
       "<AxesSubplot:>"
      ]
     },
     "execution_count": 55,
     "metadata": {},
     "output_type": "execute_result"
    },
    {
     "data": {
      "image/png": "[encoded data removed]",
      "text/plain": [
       "<Figure size 432x288 with 1 Axes>"
      ]
     },
     "metadata": {
      "needs_background": "light"
     },
     "output_type": "display_data"
    }
   ],
   "source": [
    "df[\"FlatA_Temp\"].hist()"
   ]
  }
 ],
 "metadata": {
  "kernelspec": {
   "display_name": "Python 3",
   "language": "python",
   "name": "python3"
  },
  "language_info": {
   "codemirror_mode": {
    "name": "ipython",
    "version": 3
   },
   "file_extension": ".py",
   "mimetype": "text/x-python",
   "name": "python",
   "nbconvert_exporter": "python",
   "pygments_lexer": "ipython3",
   "version": "3.7.1"
  }
 },
 "nbformat": 4,
 "nbformat_minor": 4
}
