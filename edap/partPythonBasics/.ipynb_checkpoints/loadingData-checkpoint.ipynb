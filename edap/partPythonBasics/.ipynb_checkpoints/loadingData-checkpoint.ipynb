{
 "cells": [
  {
   "cell_type": "markdown",
   "metadata": {},
   "source": [
    "# Loading Data"
   ]
  },
  {
   "cell_type": "markdown",
   "metadata": {},
   "source": [
    "This chapter introduces two functions that can be used to load data from csv- and Excel-files."
   ]
  },
  {
   "cell_type": "markdown",
   "metadata": {},
   "source": [
    "## csv-Files\n",
    "Load data from comma separated files"
   ]
  },
  {
   "cell_type": "code",
   "execution_count": 7,
   "metadata": {
    "scrolled": true
   },
   "outputs": [
    {
     "data": {
      "text/html": [
       "<div>\n",
       "<style scoped>\n",
       "    .dataframe tbody tr th:only-of-type {\n",
       "        vertical-align: middle;\n",
       "    }\n",
       "\n",
       "    .dataframe tbody tr th {\n",
       "        vertical-align: top;\n",
       "    }\n",
       "\n",
       "    .dataframe thead th {\n",
       "        text-align: right;\n",
       "    }\n",
       "</style>\n",
       "<table border=\"1\" class=\"dataframe\">\n",
       "  <thead>\n",
       "    <tr style=\"text-align: right;\">\n",
       "      <th></th>\n",
       "      <th>time</th>\n",
       "      <th>FlatA_Ele</th>\n",
       "      <th>FlatB_Ele</th>\n",
       "      <th>FlatC_Ele</th>\n",
       "      <th>FlatD_Ele</th>\n",
       "    </tr>\n",
       "  </thead>\n",
       "  <tbody>\n",
       "    <tr>\n",
       "      <th>0</th>\n",
       "      <td>2018-11-30 23:45:00</td>\n",
       "      <td>5619.889</td>\n",
       "      <td>7246.254</td>\n",
       "      <td>5125.006</td>\n",
       "      <td>8387.030</td>\n",
       "    </tr>\n",
       "    <tr>\n",
       "      <th>1</th>\n",
       "      <td>2018-12-01 00:00:00</td>\n",
       "      <td>5619.904</td>\n",
       "      <td>7246.551</td>\n",
       "      <td>5125.039</td>\n",
       "      <td>8387.085</td>\n",
       "    </tr>\n",
       "    <tr>\n",
       "      <th>2</th>\n",
       "      <td>2018-12-01 00:15:00</td>\n",
       "      <td>5619.929</td>\n",
       "      <td>7246.753</td>\n",
       "      <td>5125.077</td>\n",
       "      <td>8387.137</td>\n",
       "    </tr>\n",
       "    <tr>\n",
       "      <th>3</th>\n",
       "      <td>2018-12-01 00:30:00</td>\n",
       "      <td>5619.952</td>\n",
       "      <td>7246.933</td>\n",
       "      <td>5125.117</td>\n",
       "      <td>8387.181</td>\n",
       "    </tr>\n",
       "    <tr>\n",
       "      <th>4</th>\n",
       "      <td>2018-12-01 00:45:00</td>\n",
       "      <td>5619.973</td>\n",
       "      <td>7247.005</td>\n",
       "      <td>5125.153</td>\n",
       "      <td>8387.222</td>\n",
       "    </tr>\n",
       "  </tbody>\n",
       "</table>\n",
       "</div>"
      ],
      "text/plain": [
       "                  time  FlatA_Ele  FlatB_Ele  FlatC_Ele  FlatD_Ele\n",
       "0  2018-11-30 23:45:00   5619.889   7246.254   5125.006   8387.030\n",
       "1  2018-12-01 00:00:00   5619.904   7246.551   5125.039   8387.085\n",
       "2  2018-12-01 00:15:00   5619.929   7246.753   5125.077   8387.137\n",
       "3  2018-12-01 00:30:00   5619.952   7246.933   5125.117   8387.181\n",
       "4  2018-12-01 00:45:00   5619.973   7247.005   5125.153   8387.222"
      ]
     },
     "execution_count": 7,
     "metadata": {},
     "output_type": "execute_result"
    }
   ],
   "source": [
    "import pandas as pd\n",
    "\n",
    "df = pd.read_csv(\"https://github.com/hslu-ige-laes/edar/raw/master/sampleData/flatElectricity.csv\", sep = \";\")\n",
    "df.head()"
   ]
  }
 ],
 "metadata": {
  "kernelspec": {
   "display_name": "Python 3",
   "language": "python",
   "name": "python3"
  },
  "language_info": {
   "codemirror_mode": {
    "name": "ipython",
    "version": 3
   },
   "file_extension": ".py",
   "mimetype": "text/x-python",
   "name": "python",
   "nbconvert_exporter": "python",
   "pygments_lexer": "ipython3",
   "version": "3.7.1"
  },
  "widgets": {
   "application/vnd.jupyter.widget-state+json": {
    "state": {},
    "version_major": 2,
    "version_minor": 0
   }
  }
 },
 "nbformat": 4,
 "nbformat_minor": 4
}
