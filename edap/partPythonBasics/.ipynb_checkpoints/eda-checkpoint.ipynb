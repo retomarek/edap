{
 "cells": [
  {
   "cell_type": "markdown",
   "metadata": {},
   "source": [
    "# Explorative Data Analysis\n",
    "Explorative Data Analysis (EDA) is a technique based on the human characteristic of visual pattern recognition.\n",
    "\n",
    "The purpose of EDA is simple: learn more about data by visualizing it in different ways.\n",
    "\n",
    "> “Exploratory data analysis is graphical detective work.” - John W. Tukey, considered the founder of EDA"
   ]
  },
  {
   "cell_type": "markdown",
   "metadata": {},
   "source": [
    "## Get Overview of Data\n",
    "A first step is getting an overview of the whole data set and specific series of it."
   ]
  },
  {
   "cell_type": "code",
   "execution_count": 19,
   "metadata": {},
   "outputs": [],
   "source": [
    "import pandas as pd\n",
    "\n",
    "df = pd.read_csv(\"https://github.com/hslu-ige-laes/edar/raw/master/sampleData/flatElectricity.csv\",\n",
    "                 sep = \";\")"
   ]
  },
  {
   "cell_type": "code",
   "execution_count": 3,
   "metadata": {
    "scrolled": false
   },
   "outputs": [
    {
     "data": {
      "text/html": [
       "<div>\n",
       "<style scoped>\n",
       "    .dataframe tbody tr th:only-of-type {\n",
       "        vertical-align: middle;\n",
       "    }\n",
       "\n",
       "    .dataframe tbody tr th {\n",
       "        vertical-align: top;\n",
       "    }\n",
       "\n",
       "    .dataframe thead th {\n",
       "        text-align: right;\n",
       "    }\n",
       "</style>\n",
       "<table border=\"1\" class=\"dataframe\">\n",
       "  <thead>\n",
       "    <tr style=\"text-align: right;\">\n",
       "      <th></th>\n",
       "      <th>time</th>\n",
       "      <th>FlatA_Ele</th>\n",
       "      <th>FlatB_Ele</th>\n",
       "      <th>FlatC_Ele</th>\n",
       "      <th>FlatD_Ele</th>\n",
       "    </tr>\n",
       "  </thead>\n",
       "  <tbody>\n",
       "    <tr>\n",
       "      <th>0</th>\n",
       "      <td>2018-11-30 23:45:00</td>\n",
       "      <td>5619.889</td>\n",
       "      <td>7246.254</td>\n",
       "      <td>5125.006</td>\n",
       "      <td>8387.030</td>\n",
       "    </tr>\n",
       "    <tr>\n",
       "      <th>1</th>\n",
       "      <td>2018-12-01 00:00:00</td>\n",
       "      <td>5619.904</td>\n",
       "      <td>7246.551</td>\n",
       "      <td>5125.039</td>\n",
       "      <td>8387.085</td>\n",
       "    </tr>\n",
       "    <tr>\n",
       "      <th>2</th>\n",
       "      <td>2018-12-01 00:15:00</td>\n",
       "      <td>5619.929</td>\n",
       "      <td>7246.753</td>\n",
       "      <td>5125.077</td>\n",
       "      <td>8387.137</td>\n",
       "    </tr>\n",
       "    <tr>\n",
       "      <th>3</th>\n",
       "      <td>2018-12-01 00:30:00</td>\n",
       "      <td>5619.952</td>\n",
       "      <td>7246.933</td>\n",
       "      <td>5125.117</td>\n",
       "      <td>8387.181</td>\n",
       "    </tr>\n",
       "    <tr>\n",
       "      <th>4</th>\n",
       "      <td>2018-12-01 00:45:00</td>\n",
       "      <td>5619.973</td>\n",
       "      <td>7247.005</td>\n",
       "      <td>5125.153</td>\n",
       "      <td>8387.222</td>\n",
       "    </tr>\n",
       "    <tr>\n",
       "      <th>...</th>\n",
       "      <td>...</td>\n",
       "      <td>...</td>\n",
       "      <td>...</td>\n",
       "      <td>...</td>\n",
       "      <td>...</td>\n",
       "    </tr>\n",
       "    <tr>\n",
       "      <th>52605</th>\n",
       "      <td>2020-05-31 23:00:00</td>\n",
       "      <td>10467.960</td>\n",
       "      <td>12040.055</td>\n",
       "      <td>8335.662</td>\n",
       "      <td>13832.386</td>\n",
       "    </tr>\n",
       "    <tr>\n",
       "      <th>52606</th>\n",
       "      <td>2020-05-31 23:15:00</td>\n",
       "      <td>10467.966</td>\n",
       "      <td>12040.098</td>\n",
       "      <td>8335.702</td>\n",
       "      <td>13832.429</td>\n",
       "    </tr>\n",
       "    <tr>\n",
       "      <th>52607</th>\n",
       "      <td>2020-05-31 23:30:00</td>\n",
       "      <td>10467.972</td>\n",
       "      <td>12040.122</td>\n",
       "      <td>8335.733</td>\n",
       "      <td>13832.477</td>\n",
       "    </tr>\n",
       "    <tr>\n",
       "      <th>52608</th>\n",
       "      <td>2020-05-31 23:45:00</td>\n",
       "      <td>10467.985</td>\n",
       "      <td>12040.150</td>\n",
       "      <td>8335.755</td>\n",
       "      <td>13832.517</td>\n",
       "    </tr>\n",
       "    <tr>\n",
       "      <th>52609</th>\n",
       "      <td>2020-06-01 00:00:00</td>\n",
       "      <td>10468.004</td>\n",
       "      <td>12040.176</td>\n",
       "      <td>8335.790</td>\n",
       "      <td>13832.551</td>\n",
       "    </tr>\n",
       "  </tbody>\n",
       "</table>\n",
       "<p>52610 rows × 5 columns</p>\n",
       "</div>"
      ],
      "text/plain": [
       "                      time  FlatA_Ele  FlatB_Ele  FlatC_Ele  FlatD_Ele\n",
       "0      2018-11-30 23:45:00   5619.889   7246.254   5125.006   8387.030\n",
       "1      2018-12-01 00:00:00   5619.904   7246.551   5125.039   8387.085\n",
       "2      2018-12-01 00:15:00   5619.929   7246.753   5125.077   8387.137\n",
       "3      2018-12-01 00:30:00   5619.952   7246.933   5125.117   8387.181\n",
       "4      2018-12-01 00:45:00   5619.973   7247.005   5125.153   8387.222\n",
       "...                    ...        ...        ...        ...        ...\n",
       "52605  2020-05-31 23:00:00  10467.960  12040.055   8335.662  13832.386\n",
       "52606  2020-05-31 23:15:00  10467.966  12040.098   8335.702  13832.429\n",
       "52607  2020-05-31 23:30:00  10467.972  12040.122   8335.733  13832.477\n",
       "52608  2020-05-31 23:45:00  10467.985  12040.150   8335.755  13832.517\n",
       "52609  2020-06-01 00:00:00  10468.004  12040.176   8335.790  13832.551\n",
       "\n",
       "[52610 rows x 5 columns]"
      ]
     },
     "execution_count": 3,
     "metadata": {},
     "output_type": "execute_result"
    }
   ],
   "source": [
    "df"
   ]
  },
  {
   "cell_type": "code",
   "execution_count": 7,
   "metadata": {},
   "outputs": [
    {
     "data": {
      "text/html": [
       "<div>\n",
       "<style scoped>\n",
       "    .dataframe tbody tr th:only-of-type {\n",
       "        vertical-align: middle;\n",
       "    }\n",
       "\n",
       "    .dataframe tbody tr th {\n",
       "        vertical-align: top;\n",
       "    }\n",
       "\n",
       "    .dataframe thead th {\n",
       "        text-align: right;\n",
       "    }\n",
       "</style>\n",
       "<table border=\"1\" class=\"dataframe\">\n",
       "  <thead>\n",
       "    <tr style=\"text-align: right;\">\n",
       "      <th></th>\n",
       "      <th>time</th>\n",
       "      <th>FlatA_Ele</th>\n",
       "      <th>FlatB_Ele</th>\n",
       "      <th>FlatC_Ele</th>\n",
       "      <th>FlatD_Ele</th>\n",
       "    </tr>\n",
       "  </thead>\n",
       "  <tbody>\n",
       "    <tr>\n",
       "      <th>0</th>\n",
       "      <td>2018-11-30 23:45:00</td>\n",
       "      <td>5619.889</td>\n",
       "      <td>7246.254</td>\n",
       "      <td>5125.006</td>\n",
       "      <td>8387.030</td>\n",
       "    </tr>\n",
       "    <tr>\n",
       "      <th>1</th>\n",
       "      <td>2018-12-01 00:00:00</td>\n",
       "      <td>5619.904</td>\n",
       "      <td>7246.551</td>\n",
       "      <td>5125.039</td>\n",
       "      <td>8387.085</td>\n",
       "    </tr>\n",
       "    <tr>\n",
       "      <th>2</th>\n",
       "      <td>2018-12-01 00:15:00</td>\n",
       "      <td>5619.929</td>\n",
       "      <td>7246.753</td>\n",
       "      <td>5125.077</td>\n",
       "      <td>8387.137</td>\n",
       "    </tr>\n",
       "  </tbody>\n",
       "</table>\n",
       "</div>"
      ],
      "text/plain": [
       "                  time  FlatA_Ele  FlatB_Ele  FlatC_Ele  FlatD_Ele\n",
       "0  2018-11-30 23:45:00   5619.889   7246.254   5125.006   8387.030\n",
       "1  2018-12-01 00:00:00   5619.904   7246.551   5125.039   8387.085\n",
       "2  2018-12-01 00:15:00   5619.929   7246.753   5125.077   8387.137"
      ]
     },
     "execution_count": 7,
     "metadata": {},
     "output_type": "execute_result"
    }
   ],
   "source": [
    "df.head(3)"
   ]
  },
  {
   "cell_type": "code",
   "execution_count": 8,
   "metadata": {},
   "outputs": [
    {
     "data": {
      "text/html": [
       "<div>\n",
       "<style scoped>\n",
       "    .dataframe tbody tr th:only-of-type {\n",
       "        vertical-align: middle;\n",
       "    }\n",
       "\n",
       "    .dataframe tbody tr th {\n",
       "        vertical-align: top;\n",
       "    }\n",
       "\n",
       "    .dataframe thead th {\n",
       "        text-align: right;\n",
       "    }\n",
       "</style>\n",
       "<table border=\"1\" class=\"dataframe\">\n",
       "  <thead>\n",
       "    <tr style=\"text-align: right;\">\n",
       "      <th></th>\n",
       "      <th>time</th>\n",
       "      <th>FlatA_Ele</th>\n",
       "      <th>FlatB_Ele</th>\n",
       "      <th>FlatC_Ele</th>\n",
       "      <th>FlatD_Ele</th>\n",
       "    </tr>\n",
       "  </thead>\n",
       "  <tbody>\n",
       "    <tr>\n",
       "      <th>52608</th>\n",
       "      <td>2020-05-31 23:45:00</td>\n",
       "      <td>10467.985</td>\n",
       "      <td>12040.150</td>\n",
       "      <td>8335.755</td>\n",
       "      <td>13832.517</td>\n",
       "    </tr>\n",
       "    <tr>\n",
       "      <th>52609</th>\n",
       "      <td>2020-06-01 00:00:00</td>\n",
       "      <td>10468.004</td>\n",
       "      <td>12040.176</td>\n",
       "      <td>8335.790</td>\n",
       "      <td>13832.551</td>\n",
       "    </tr>\n",
       "  </tbody>\n",
       "</table>\n",
       "</div>"
      ],
      "text/plain": [
       "                      time  FlatA_Ele  FlatB_Ele  FlatC_Ele  FlatD_Ele\n",
       "52608  2020-05-31 23:45:00  10467.985  12040.150   8335.755  13832.517\n",
       "52609  2020-06-01 00:00:00  10468.004  12040.176   8335.790  13832.551"
      ]
     },
     "execution_count": 8,
     "metadata": {},
     "output_type": "execute_result"
    }
   ],
   "source": [
    "df.tail(2)"
   ]
  },
  {
   "cell_type": "code",
   "execution_count": 9,
   "metadata": {
    "scrolled": false
   },
   "outputs": [
    {
     "data": {
      "text/plain": [
       "(52610, 5)"
      ]
     },
     "execution_count": 9,
     "metadata": {},
     "output_type": "execute_result"
    }
   ],
   "source": [
    "df.shape"
   ]
  },
  {
   "cell_type": "code",
   "execution_count": 17,
   "metadata": {
    "scrolled": true
   },
   "outputs": [
    {
     "data": {
      "text/plain": [
       "time          object\n",
       "FlatA_Ele    float64\n",
       "FlatB_Ele    float64\n",
       "FlatC_Ele    float64\n",
       "FlatD_Ele    float64\n",
       "dtype: object"
      ]
     },
     "execution_count": 17,
     "metadata": {},
     "output_type": "execute_result"
    }
   ],
   "source": [
    "df.dtypes"
   ]
  },
  {
   "cell_type": "markdown",
   "metadata": {},
   "source": [
    "> Hint: an objects normally points to unclean data, e.g. the time which should be a datetime object"
   ]
  },
  {
   "cell_type": "markdown",
   "metadata": {},
   "source": [
    "## Names"
   ]
  },
  {
   "cell_type": "code",
   "execution_count": 10,
   "metadata": {
    "scrolled": true
   },
   "outputs": [
    {
     "data": {
      "text/plain": [
       "Index(['time', 'FlatA_Ele', 'FlatB_Ele', 'FlatC_Ele', 'FlatD_Ele'], dtype='object')"
      ]
     },
     "execution_count": 10,
     "metadata": {},
     "output_type": "execute_result"
    }
   ],
   "source": [
    "df.columns"
   ]
  },
  {
   "cell_type": "markdown",
   "metadata": {},
   "source": [
    "## Descriptive Statistics"
   ]
  },
  {
   "cell_type": "code",
   "execution_count": 18,
   "metadata": {},
   "outputs": [
    {
     "data": {
      "text/html": [
       "<div>\n",
       "<style scoped>\n",
       "    .dataframe tbody tr th:only-of-type {\n",
       "        vertical-align: middle;\n",
       "    }\n",
       "\n",
       "    .dataframe tbody tr th {\n",
       "        vertical-align: top;\n",
       "    }\n",
       "\n",
       "    .dataframe thead th {\n",
       "        text-align: right;\n",
       "    }\n",
       "</style>\n",
       "<table border=\"1\" class=\"dataframe\">\n",
       "  <thead>\n",
       "    <tr style=\"text-align: right;\">\n",
       "      <th></th>\n",
       "      <th>FlatA_Ele</th>\n",
       "      <th>FlatB_Ele</th>\n",
       "      <th>FlatC_Ele</th>\n",
       "      <th>FlatD_Ele</th>\n",
       "    </tr>\n",
       "  </thead>\n",
       "  <tbody>\n",
       "    <tr>\n",
       "      <th>count</th>\n",
       "      <td>50589.000000</td>\n",
       "      <td>51893.000000</td>\n",
       "      <td>51894.000000</td>\n",
       "      <td>51873.000000</td>\n",
       "    </tr>\n",
       "    <tr>\n",
       "      <th>mean</th>\n",
       "      <td>7963.461884</td>\n",
       "      <td>9750.414189</td>\n",
       "      <td>6592.128982</td>\n",
       "      <td>11025.001172</td>\n",
       "    </tr>\n",
       "    <tr>\n",
       "      <th>std</th>\n",
       "      <td>1404.320109</td>\n",
       "      <td>1402.263150</td>\n",
       "      <td>895.101293</td>\n",
       "      <td>1502.320746</td>\n",
       "    </tr>\n",
       "    <tr>\n",
       "      <th>min</th>\n",
       "      <td>5619.889000</td>\n",
       "      <td>7246.254000</td>\n",
       "      <td>5125.006000</td>\n",
       "      <td>8387.030000</td>\n",
       "    </tr>\n",
       "    <tr>\n",
       "      <th>25%</th>\n",
       "      <td>6833.084000</td>\n",
       "      <td>8575.643000</td>\n",
       "      <td>5809.798250</td>\n",
       "      <td>9782.384000</td>\n",
       "    </tr>\n",
       "    <tr>\n",
       "      <th>50%</th>\n",
       "      <td>7828.051000</td>\n",
       "      <td>9700.237000</td>\n",
       "      <td>6594.644500</td>\n",
       "      <td>10962.363000</td>\n",
       "    </tr>\n",
       "    <tr>\n",
       "      <th>75%</th>\n",
       "      <td>9218.736000</td>\n",
       "      <td>10997.148000</td>\n",
       "      <td>7317.123000</td>\n",
       "      <td>12253.393000</td>\n",
       "    </tr>\n",
       "    <tr>\n",
       "      <th>max</th>\n",
       "      <td>10468.004000</td>\n",
       "      <td>12040.176000</td>\n",
       "      <td>8335.790000</td>\n",
       "      <td>13832.551000</td>\n",
       "    </tr>\n",
       "  </tbody>\n",
       "</table>\n",
       "</div>"
      ],
      "text/plain": [
       "          FlatA_Ele     FlatB_Ele     FlatC_Ele     FlatD_Ele\n",
       "count  50589.000000  51893.000000  51894.000000  51873.000000\n",
       "mean    7963.461884   9750.414189   6592.128982  11025.001172\n",
       "std     1404.320109   1402.263150    895.101293   1502.320746\n",
       "min     5619.889000   7246.254000   5125.006000   8387.030000\n",
       "25%     6833.084000   8575.643000   5809.798250   9782.384000\n",
       "50%     7828.051000   9700.237000   6594.644500  10962.363000\n",
       "75%     9218.736000  10997.148000   7317.123000  12253.393000\n",
       "max    10468.004000  12040.176000   8335.790000  13832.551000"
      ]
     },
     "execution_count": 18,
     "metadata": {},
     "output_type": "execute_result"
    }
   ],
   "source": [
    "df.describe()"
   ]
  }
 ],
 "metadata": {
  "kernelspec": {
   "display_name": "Python 3",
   "language": "python",
   "name": "python3"
  },
  "language_info": {
   "codemirror_mode": {
    "name": "ipython",
    "version": 3
   },
   "file_extension": ".py",
   "mimetype": "text/x-python",
   "name": "python",
   "nbconvert_exporter": "python",
   "pygments_lexer": "ipython3",
   "version": "3.7.1"
  }
 },
 "nbformat": 4,
 "nbformat_minor": 4
}
