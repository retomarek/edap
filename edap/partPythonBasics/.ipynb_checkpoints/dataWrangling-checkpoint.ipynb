{
 "cells": [
  {
   "cell_type": "markdown",
   "metadata": {},
   "source": [
    "# Data Wrangling\n",
    "This chapter gives an overview of the most important data manipulation functions used throughout this book.\n",
    "\n",
    "It is a fact that the data import and manipulation part of analyses often takes more time than the actual analysis or visualization itself. This is because the exchange data formats are not standardized and meters and sensors record at different time intervals. Data quality, missing data, data imputation and data cleansing also play a major role."
   ]
  },
  {
   "cell_type": "code",
   "execution_count": 4,
   "metadata": {
    "scrolled": true
   },
   "outputs": [
    {
     "data": {
      "text/html": [
       "<div>\n",
       "<style scoped>\n",
       "    .dataframe tbody tr th:only-of-type {\n",
       "        vertical-align: middle;\n",
       "    }\n",
       "\n",
       "    .dataframe tbody tr th {\n",
       "        vertical-align: top;\n",
       "    }\n",
       "\n",
       "    .dataframe thead th {\n",
       "        text-align: right;\n",
       "    }\n",
       "</style>\n",
       "<table border=\"1\" class=\"dataframe\">\n",
       "  <thead>\n",
       "    <tr style=\"text-align: right;\">\n",
       "      <th></th>\n",
       "      <th>time</th>\n",
       "      <th>FlatA_Hum</th>\n",
       "      <th>FlatA_Temp</th>\n",
       "      <th>FlatB_Hum</th>\n",
       "      <th>FlatB_Temp</th>\n",
       "      <th>FlatC_Hum</th>\n",
       "      <th>FlatC_Temp</th>\n",
       "      <th>FlatD_Hum</th>\n",
       "      <th>FlatD_Temp</th>\n",
       "    </tr>\n",
       "  </thead>\n",
       "  <tbody>\n",
       "    <tr>\n",
       "      <th>0</th>\n",
       "      <td>2018-10-03 00:00:00</td>\n",
       "      <td>53.0</td>\n",
       "      <td>24.43</td>\n",
       "      <td>38.8</td>\n",
       "      <td>22.40</td>\n",
       "      <td>44.0</td>\n",
       "      <td>24.5</td>\n",
       "      <td>49.0</td>\n",
       "      <td>24.43</td>\n",
       "    </tr>\n",
       "    <tr>\n",
       "      <th>1</th>\n",
       "      <td>2018-10-03 01:00:00</td>\n",
       "      <td>53.0</td>\n",
       "      <td>24.40</td>\n",
       "      <td>38.8</td>\n",
       "      <td>22.40</td>\n",
       "      <td>44.0</td>\n",
       "      <td>24.5</td>\n",
       "      <td>49.0</td>\n",
       "      <td>24.40</td>\n",
       "    </tr>\n",
       "    <tr>\n",
       "      <th>2</th>\n",
       "      <td>2018-10-03 02:00:00</td>\n",
       "      <td>53.0</td>\n",
       "      <td>24.40</td>\n",
       "      <td>39.3</td>\n",
       "      <td>22.40</td>\n",
       "      <td>44.7</td>\n",
       "      <td>24.5</td>\n",
       "      <td>48.3</td>\n",
       "      <td>24.38</td>\n",
       "    </tr>\n",
       "    <tr>\n",
       "      <th>3</th>\n",
       "      <td>2018-10-03 03:00:00</td>\n",
       "      <td>53.0</td>\n",
       "      <td>24.40</td>\n",
       "      <td>40.3</td>\n",
       "      <td>22.40</td>\n",
       "      <td>45.0</td>\n",
       "      <td>24.5</td>\n",
       "      <td>48.0</td>\n",
       "      <td>24.33</td>\n",
       "    </tr>\n",
       "    <tr>\n",
       "      <th>4</th>\n",
       "      <td>2018-10-03 04:00:00</td>\n",
       "      <td>53.3</td>\n",
       "      <td>24.40</td>\n",
       "      <td>41.0</td>\n",
       "      <td>22.37</td>\n",
       "      <td>45.2</td>\n",
       "      <td>24.5</td>\n",
       "      <td>47.7</td>\n",
       "      <td>24.30</td>\n",
       "    </tr>\n",
       "  </tbody>\n",
       "</table>\n",
       "</div>"
      ],
      "text/plain": [
       "                  time  FlatA_Hum  FlatA_Temp  FlatB_Hum  FlatB_Temp  \\\n",
       "0  2018-10-03 00:00:00       53.0       24.43       38.8       22.40   \n",
       "1  2018-10-03 01:00:00       53.0       24.40       38.8       22.40   \n",
       "2  2018-10-03 02:00:00       53.0       24.40       39.3       22.40   \n",
       "3  2018-10-03 03:00:00       53.0       24.40       40.3       22.40   \n",
       "4  2018-10-03 04:00:00       53.3       24.40       41.0       22.37   \n",
       "\n",
       "   FlatC_Hum  FlatC_Temp  FlatD_Hum  FlatD_Temp  \n",
       "0       44.0        24.5       49.0       24.43  \n",
       "1       44.0        24.5       49.0       24.40  \n",
       "2       44.7        24.5       48.3       24.38  \n",
       "3       45.0        24.5       48.0       24.33  \n",
       "4       45.2        24.5       47.7       24.30  "
      ]
     },
     "execution_count": 4,
     "metadata": {},
     "output_type": "execute_result"
    }
   ],
   "source": [
    "# Load data set\n",
    "\n",
    "import pandas as pd\n",
    "\n",
    "df = pd.read_csv(\"https://raw.githubusercontent.com/retomarek/edap/main/edap/sampleData/flatTempHum.csv\",\n",
    "                 sep = \";\")\n",
    "df.head()"
   ]
  },
  {
   "cell_type": "markdown",
   "metadata": {},
   "source": [
    "## Access Data"
   ]
  },
  {
   "cell_type": "code",
   "execution_count": 6,
   "metadata": {
    "scrolled": true
   },
   "outputs": [
    {
     "data": {
      "text/plain": [
       "0        24.43\n",
       "1        24.40\n",
       "2        24.40\n",
       "3        24.40\n",
       "4        24.40\n",
       "         ...  \n",
       "17176      NaN\n",
       "17177      NaN\n",
       "17178      NaN\n",
       "17179      NaN\n",
       "17180      NaN\n",
       "Name: FlatA_Temp, Length: 17181, dtype: float64"
      ]
     },
     "execution_count": 6,
     "metadata": {},
     "output_type": "execute_result"
    }
   ],
   "source": [
    "df[\"FlatA_Temp\"]"
   ]
  },
  {
   "cell_type": "markdown",
   "metadata": {},
   "source": [
    "```{note}\n",
    "A Series is returned!\n",
    "```"
   ]
  },
  {
   "cell_type": "code",
   "execution_count": 7,
   "metadata": {},
   "outputs": [
    {
     "data": {
      "text/html": [
       "<div>\n",
       "<style scoped>\n",
       "    .dataframe tbody tr th:only-of-type {\n",
       "        vertical-align: middle;\n",
       "    }\n",
       "\n",
       "    .dataframe tbody tr th {\n",
       "        vertical-align: top;\n",
       "    }\n",
       "\n",
       "    .dataframe thead th {\n",
       "        text-align: right;\n",
       "    }\n",
       "</style>\n",
       "<table border=\"1\" class=\"dataframe\">\n",
       "  <thead>\n",
       "    <tr style=\"text-align: right;\">\n",
       "      <th></th>\n",
       "      <th>FlatA_Temp</th>\n",
       "      <th>FlatA_Hum</th>\n",
       "    </tr>\n",
       "  </thead>\n",
       "  <tbody>\n",
       "    <tr>\n",
       "      <th>0</th>\n",
       "      <td>24.43</td>\n",
       "      <td>53.0</td>\n",
       "    </tr>\n",
       "    <tr>\n",
       "      <th>1</th>\n",
       "      <td>24.40</td>\n",
       "      <td>53.0</td>\n",
       "    </tr>\n",
       "    <tr>\n",
       "      <th>2</th>\n",
       "      <td>24.40</td>\n",
       "      <td>53.0</td>\n",
       "    </tr>\n",
       "    <tr>\n",
       "      <th>3</th>\n",
       "      <td>24.40</td>\n",
       "      <td>53.0</td>\n",
       "    </tr>\n",
       "    <tr>\n",
       "      <th>4</th>\n",
       "      <td>24.40</td>\n",
       "      <td>53.3</td>\n",
       "    </tr>\n",
       "    <tr>\n",
       "      <th>...</th>\n",
       "      <td>...</td>\n",
       "      <td>...</td>\n",
       "    </tr>\n",
       "    <tr>\n",
       "      <th>17176</th>\n",
       "      <td>NaN</td>\n",
       "      <td>NaN</td>\n",
       "    </tr>\n",
       "    <tr>\n",
       "      <th>17177</th>\n",
       "      <td>NaN</td>\n",
       "      <td>NaN</td>\n",
       "    </tr>\n",
       "    <tr>\n",
       "      <th>17178</th>\n",
       "      <td>NaN</td>\n",
       "      <td>NaN</td>\n",
       "    </tr>\n",
       "    <tr>\n",
       "      <th>17179</th>\n",
       "      <td>NaN</td>\n",
       "      <td>NaN</td>\n",
       "    </tr>\n",
       "    <tr>\n",
       "      <th>17180</th>\n",
       "      <td>NaN</td>\n",
       "      <td>NaN</td>\n",
       "    </tr>\n",
       "  </tbody>\n",
       "</table>\n",
       "<p>17181 rows × 2 columns</p>\n",
       "</div>"
      ],
      "text/plain": [
       "       FlatA_Temp  FlatA_Hum\n",
       "0           24.43       53.0\n",
       "1           24.40       53.0\n",
       "2           24.40       53.0\n",
       "3           24.40       53.0\n",
       "4           24.40       53.3\n",
       "...           ...        ...\n",
       "17176         NaN        NaN\n",
       "17177         NaN        NaN\n",
       "17178         NaN        NaN\n",
       "17179         NaN        NaN\n",
       "17180         NaN        NaN\n",
       "\n",
       "[17181 rows x 2 columns]"
      ]
     },
     "execution_count": 7,
     "metadata": {},
     "output_type": "execute_result"
    }
   ],
   "source": [
    "df[[\"FlatA_Temp\", \"FlatA_Hum\"]]"
   ]
  },
  {
   "cell_type": "markdown",
   "metadata": {},
   "source": [
    "```{note}\n",
    "A Dataframe is returned!\n",
    "```"
   ]
  },
  {
   "cell_type": "markdown",
   "metadata": {},
   "source": [
    "## Column Names"
   ]
  },
  {
   "cell_type": "code",
   "execution_count": 10,
   "metadata": {},
   "outputs": [
    {
     "data": {
      "text/plain": [
       "Index(['time', 'FlatA_Hum', 'FlatA_Temp', 'FlatB_Hum', 'FlatB_Temp',\n",
       "       'FlatC_Hum', 'FlatC_Temp', 'FlatD_Hum', 'FlatD_Temp'],\n",
       "      dtype='object')"
      ]
     },
     "execution_count": 10,
     "metadata": {},
     "output_type": "execute_result"
    }
   ],
   "source": [
    "df.columns"
   ]
  },
  {
   "cell_type": "markdown",
   "metadata": {},
   "source": [
    "##  Add Metadata for later filtering"
   ]
  },
  {
   "cell_type": "code",
   "execution_count": null,
   "metadata": {},
   "outputs": [],
   "source": []
  }
 ],
 "metadata": {
  "kernelspec": {
   "display_name": "Python 3",
   "language": "python",
   "name": "python3"
  },
  "language_info": {
   "codemirror_mode": {
    "name": "ipython",
    "version": 3
   },
   "file_extension": ".py",
   "mimetype": "text/x-python",
   "name": "python",
   "nbconvert_exporter": "python",
   "pygments_lexer": "ipython3",
   "version": "3.7.1"
  }
 },
 "nbformat": 4,
 "nbformat_minor": 4
}
